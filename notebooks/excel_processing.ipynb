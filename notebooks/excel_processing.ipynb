{
 "cells": [
  {
   "cell_type": "markdown",
   "metadata": {},
   "source": [
    "# 🧃 Excel Preprocessing"
   ]
  },
  {
   "cell_type": "markdown",
   "metadata": {},
   "source": [
    "### 📚 Libraries"
   ]
  },
  {
   "cell_type": "code",
   "execution_count": null,
   "metadata": {},
   "outputs": [],
   "source": [
    "import json\n",
    "from datetime import datetime\n",
    "\n",
    "import pandas as pd"
   ]
  },
  {
   "cell_type": "markdown",
   "metadata": {},
   "source": [
    "### 🛼 Data Ingestion"
   ]
  },
  {
   "cell_type": "code",
   "execution_count": null,
   "metadata": {},
   "outputs": [],
   "source": [
    "rips_path = '../data/input/rips.xlsx'\n",
    "transaction_df = pd.read_excel(rips_path, sheet_name='FACTURA')\n",
    "users_df = pd.read_excel(rips_path, sheet_name='USUARIO')\n",
    "appointments_df = pd.read_excel(rips_path, sheet_name='CONSULTA')\n",
    "procedures_df = pd.read_excel(rips_path, sheet_name='PROCEDIMIENTOS')"
   ]
  },
  {
   "cell_type": "code",
   "execution_count": null,
   "metadata": {},
   "outputs": [],
   "source": [
    "rules_path = '../data/input/reglas.xlsx'\n",
    "rules_df = pd.read_excel(rules_path, sheet_name='JSON')"
   ]
  },
  {
   "cell_type": "markdown",
   "metadata": {},
   "source": [
    "### 🥋 Rules parsing"
   ]
  },
  {
   "cell_type": "code",
   "execution_count": null,
   "metadata": {},
   "outputs": [],
   "source": [
    "def parse_rules(rules_df):\n",
    "    \"\"\"Parse the rules from the rules dataframe into a dictionary.\"\"\"\n",
    "    rules = {}\n",
    "    rules_df = rules_df.copy().map(\n",
    "        lambda x: x.strip() if isinstance(x, str) else x\n",
    "    )\n",
    "    for idx in rules_df.index:\n",
    "        df_table = rules_df.loc[idx, 'TABLA']\n",
    "        table_map = {\n",
    "            'FACTURA': 'transaction',\n",
    "            'USUARIO': 'users',\n",
    "            'CONSULTA': 'appointments',\n",
    "            'PROCEDIMIENTOS': 'procedures',\n",
    "        }\n",
    "        try:\n",
    "            table = table_map[df_table]\n",
    "        except KeyError:\n",
    "            raise ValueError(\n",
    "                f\"Table not recognized on row {idx + 2}: {df_dtype}\"\n",
    "            )\n",
    "\n",
    "        field = rules_df.loc[idx, 'COLUMNA'].strip()\n",
    "        if field == '':\n",
    "            raise ValueError(\n",
    "                f\"Field name is empty on row {idx + 2}\"\n",
    "            )\n",
    "\n",
    "        df_dtype = rules_df.loc[idx, 'TIPO DE DATO']\n",
    "        dtype_map = {\n",
    "            'entero': int,\n",
    "            'decimal': float,\n",
    "            'texto': str,\n",
    "        }\n",
    "        try:\n",
    "            dtype = dtype_map[df_dtype]\n",
    "        except KeyError:\n",
    "            raise ValueError(\n",
    "                f\"Data type not recognized on row {idx + 2}: {df_dtype}\"\n",
    "            )\n",
    "\n",
    "        df_null_treatment = rules_df.loc[idx, 'FORMATO NULO']\n",
    "        if df_null_treatment == 'PROHIBIDO':\n",
    "            can_null = False\n",
    "            null_value = False\n",
    "        else:\n",
    "            can_null = True\n",
    "            if df_null_treatment == 'BLANCO':\n",
    "                null_value = ''\n",
    "            elif df_null_treatment == 'NULO':\n",
    "                null_value = None\n",
    "            else:\n",
    "                raise ValueError(\n",
    "                    f\"Null format invalid on row {idx + 2}: {df_null_treatment}\"\n",
    "                )\n",
    "\n",
    "        df_date_format = rules_df.loc[idx, 'FORMATO FECHA']\n",
    "        if pd.isna(df_date_format):\n",
    "            date_format = None\n",
    "        else:\n",
    "            date_format = df_date_format\n",
    "            try:\n",
    "                now = datetime.now()\n",
    "                datetime.strptime(now.strftime(date_format), date_format)\n",
    "            except ValueError:\n",
    "                raise ValueError(\n",
    "                    f\"Date format invalid on row {idx + 2}: {date_format}\"\n",
    "                )\n",
    "        if table not in rules:\n",
    "            rules[table] = {}\n",
    "        rules[table].update({\n",
    "            field: {\n",
    "                'dtype': dtype,\n",
    "                'can_null': can_null,\n",
    "                'null_value': null_value,\n",
    "                'date_format': date_format\n",
    "            }\n",
    "        })\n",
    "    return rules"
   ]
  },
  {
   "cell_type": "code",
   "execution_count": null,
   "metadata": {},
   "outputs": [],
   "source": [
    "rules = parse_rules(rules_df)\n",
    "rules"
   ]
  },
  {
   "cell_type": "markdown",
   "metadata": {},
   "source": [
    "### 🎛️ RIPS processing"
   ]
  },
  {
   "cell_type": "code",
   "execution_count": null,
   "metadata": {},
   "outputs": [],
   "source": [
    "def process_datetime(timestamp):\n",
    "    has_time = timestamp.hour > 0 or timestamp.minute > 0\n",
    "    if has_time:\n",
    "        ts_str = timestamp.strftime('%Y-%m-%d %H:%M:%S')\n",
    "    else:\n",
    "        ts_str = timestamp.strftime('%Y-%m-%d')\n",
    "    return ts_str\n",
    "\n",
    "\n",
    "def create_transaction(transaction_df):\n",
    "    try:\n",
    "        transaction = transaction_df.loc[0].to_dict()\n",
    "        for key in transaction:\n",
    "            if pd.isnull(transaction[key]):\n",
    "                transaction[key] = \"\"\n",
    "    except (ValueError, KeyError):\n",
    "        transaction = {col: \"\" for col in transaction_df.columns}\n",
    "    return transaction\n",
    "\n",
    "\n",
    "def create_user(users, index=0):\n",
    "    user = users.loc[index].to_dict()\n",
    "    for key in user:\n",
    "        if pd.isnull(user[key]):\n",
    "            user[key] = \"\"\n",
    "            continue\n",
    "        if 'fecha' in key.lower():\n",
    "            user[key] = process_datetime(user[key])\n",
    "    return user\n",
    "\n",
    "\n",
    "def create_appointment(appointments, index=0):\n",
    "    appointment = appointments.loc[index].to_dict()\n",
    "    for key in appointment:\n",
    "        if pd.isnull(appointment[key]):\n",
    "            appointment[key] = \"\"\n",
    "            continue \n",
    "        if 'fecha' in key.lower():\n",
    "            appointment[key] = process_datetime(appointment[key])\n",
    "    return appointment\n",
    "\n",
    "\n",
    "def create_procedure(procedures, index=0):\n",
    "    procedure = procedures.loc[index].to_dict()\n",
    "    for key in procedure:\n",
    "        if pd.isnull(procedure[key]):\n",
    "            procedure[key] = \"\"\n",
    "            continue\n",
    "        if 'fecha' in key.lower():\n",
    "            procedure[key] = process_datetime(procedure[key])\n",
    "    return procedure"
   ]
  },
  {
   "cell_type": "code",
   "execution_count": null,
   "metadata": {},
   "outputs": [],
   "source": [
    "main_dict = create_transaction(transaction_df)\n",
    "\n",
    "main_dict['usuarios'] = []\n",
    "for i in range(len(users_df)):\n",
    "    user = create_user(users_df, i)\n",
    "    user['servicios'] = {}\n",
    "    main_dict['usuarios'].append(user)"
   ]
  },
  {
   "cell_type": "code",
   "execution_count": null,
   "metadata": {},
   "outputs": [],
   "source": [
    "id_key = 'DocumentoIdentificacionUS'\n",
    "id_map = {id_key: 'numDocumentoIdentificacion'}\n",
    "\n",
    "for i in range(len(appointments_df)):\n",
    "    appointment = create_appointment(appointments_df, i)\n",
    "    user_id = appointment[id_key]\n",
    "    del appointment[id_key]\n",
    "    \n",
    "    for user in main_dict['usuarios']:\n",
    "        if user[id_map[id_key]] == user_id:\n",
    "            if 'consultas' not in user['servicios']:\n",
    "                user['servicios'].update({'consultas': []})\n",
    "            user['servicios']['consultas'].append(appointment)\n",
    "            break"
   ]
  },
  {
   "cell_type": "code",
   "execution_count": null,
   "metadata": {},
   "outputs": [],
   "source": [
    "for i in range(len(procedures_df)):\n",
    "    procedure = create_appointment(procedures_df, i)\n",
    "    user_id = procedure[id_key]\n",
    "    del procedure[id_key]\n",
    "\n",
    "    for user in main_dict['usuarios']:\n",
    "        if user[id_map[id_key]] == user_id:\n",
    "            if 'procedimientos' not in user['servicios']:\n",
    "                user['servicios'].update({'procedimientos': []})\n",
    "            user['servicios']['procedimientos'].append(procedure)\n",
    "            break"
   ]
  },
  {
   "cell_type": "code",
   "execution_count": null,
   "metadata": {},
   "outputs": [],
   "source": [
    "print(json.dumps(main_dict, indent=2))"
   ]
  },
  {
   "cell_type": "code",
   "execution_count": null,
   "metadata": {},
   "outputs": [],
   "source": [
    "with open('output.json', 'w') as f:\n",
    "    json.dump(main_dict, f, indent=4)"
   ]
  },
  {
   "cell_type": "code",
   "execution_count": null,
   "metadata": {},
   "outputs": [],
   "source": []
  }
 ],
 "metadata": {
  "kernelspec": {
   "display_name": "excel_json",
   "language": "python",
   "name": "python3"
  },
  "language_info": {
   "codemirror_mode": {
    "name": "ipython",
    "version": 3
   },
   "file_extension": ".py",
   "mimetype": "text/x-python",
   "name": "python",
   "nbconvert_exporter": "python",
   "pygments_lexer": "ipython3",
   "version": "3.10.13"
  }
 },
 "nbformat": 4,
 "nbformat_minor": 2
}
